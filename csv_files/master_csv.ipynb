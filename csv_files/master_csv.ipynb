{
 "cells": [
  {
   "cell_type": "code",
   "execution_count": 2,
   "metadata": {},
   "outputs": [],
   "source": [
    "import pandas as pd\n",
    "import glob\n",
    "import os"
   ]
  },
  {
   "cell_type": "code",
   "execution_count": 12,
   "metadata": {},
   "outputs": [],
   "source": [
    "a_files = [f for f in os.listdir('.') if \".csv\" in f]\n",
    "a_posts = [f for f in a_files if \"posts\" in f]\n",
    "a_comments = [f for f in a_files if \"comments\" in f]\n",
    "a_posts_concat = pd.concat([pd.read_csv(f) for f in a_posts], ignore_index=True, axis=0)\n",
    "a_comments_concat = pd.concat([pd.read_csv(f) for f in a_comments], ignore_index=True, axis=0)"
   ]
  },
  {
   "cell_type": "code",
   "execution_count": 13,
   "metadata": {},
   "outputs": [
    {
     "data": {
      "text/html": [
       "<div>\n",
       "<style scoped>\n",
       "    .dataframe tbody tr th:only-of-type {\n",
       "        vertical-align: middle;\n",
       "    }\n",
       "\n",
       "    .dataframe tbody tr th {\n",
       "        vertical-align: top;\n",
       "    }\n",
       "\n",
       "    .dataframe thead th {\n",
       "        text-align: right;\n",
       "    }\n",
       "</style>\n",
       "<table border=\"1\" class=\"dataframe\">\n",
       "  <thead>\n",
       "    <tr style=\"text-align: right;\">\n",
       "      <th></th>\n",
       "      <th>Unnamed: 0</th>\n",
       "      <th>post_id</th>\n",
       "      <th>query</th>\n",
       "      <th>post_title</th>\n",
       "      <th>post_subreddit</th>\n",
       "      <th>post_author</th>\n",
       "      <th>post_date</th>\n",
       "      <th>post_upvotes</th>\n",
       "      <th>post_desc</th>\n",
       "    </tr>\n",
       "  </thead>\n",
       "  <tbody>\n",
       "    <tr>\n",
       "      <th>0</th>\n",
       "      <td>0</td>\n",
       "      <td>10bgukr</td>\n",
       "      <td>Springboard</td>\n",
       "      <td>Avoid SPRINGBOARD they are a scam.</td>\n",
       "      <td>codingbootcamp</td>\n",
       "      <td>Powerwordshiny</td>\n",
       "      <td>2023-01-14 00:47:50</td>\n",
       "      <td>14</td>\n",
       "      <td>NaN</td>\n",
       "    </tr>\n",
       "    <tr>\n",
       "      <th>1</th>\n",
       "      <td>1</td>\n",
       "      <td>10fz7uc</td>\n",
       "      <td>Springboard</td>\n",
       "      <td>Springboard courses 2023...</td>\n",
       "      <td>ireland</td>\n",
       "      <td>tallpaul990</td>\n",
       "      <td>2023-01-19 06:18:56</td>\n",
       "      <td>7</td>\n",
       "      <td>Anyone know when they update for 2023?</td>\n",
       "    </tr>\n",
       "    <tr>\n",
       "      <th>2</th>\n",
       "      <td>2</td>\n",
       "      <td>zzr34r</td>\n",
       "      <td>Springboard</td>\n",
       "      <td>Thinking about doing a boot camp probably spri...</td>\n",
       "      <td>codingbootcamp</td>\n",
       "      <td>DueVegetable4583</td>\n",
       "      <td>2022-12-31 05:25:21</td>\n",
       "      <td>3</td>\n",
       "      <td>NaN</td>\n",
       "    </tr>\n",
       "    <tr>\n",
       "      <th>3</th>\n",
       "      <td>3</td>\n",
       "      <td>yxg6vm</td>\n",
       "      <td>Springboard</td>\n",
       "      <td>Anybody have any experience with Springboard?</td>\n",
       "      <td>codingbootcamp</td>\n",
       "      <td>FA-69-7</td>\n",
       "      <td>2022-11-16 23:14:18</td>\n",
       "      <td>7</td>\n",
       "      <td>[https://www.springboard.com/courses/software-...</td>\n",
       "    </tr>\n",
       "    <tr>\n",
       "      <th>4</th>\n",
       "      <td>4</td>\n",
       "      <td>zpa4dr</td>\n",
       "      <td>Springboard</td>\n",
       "      <td>springboard courses</td>\n",
       "      <td>ireland</td>\n",
       "      <td>No-Painter8966</td>\n",
       "      <td>2022-12-18 17:21:05</td>\n",
       "      <td>10</td>\n",
       "      <td>Wondering what is anyone's experience doing a ...</td>\n",
       "    </tr>\n",
       "  </tbody>\n",
       "</table>\n",
       "</div>"
      ],
      "text/plain": [
       "   Unnamed: 0  post_id        query  \\\n",
       "0           0  10bgukr  Springboard   \n",
       "1           1  10fz7uc  Springboard   \n",
       "2           2   zzr34r  Springboard   \n",
       "3           3   yxg6vm  Springboard   \n",
       "4           4   zpa4dr  Springboard   \n",
       "\n",
       "                                          post_title  post_subreddit  \\\n",
       "0                 Avoid SPRINGBOARD they are a scam.  codingbootcamp   \n",
       "1                        Springboard courses 2023...         ireland   \n",
       "2  Thinking about doing a boot camp probably spri...  codingbootcamp   \n",
       "3      Anybody have any experience with Springboard?  codingbootcamp   \n",
       "4                                springboard courses         ireland   \n",
       "\n",
       "        post_author            post_date  post_upvotes  \\\n",
       "0    Powerwordshiny  2023-01-14 00:47:50            14   \n",
       "1       tallpaul990  2023-01-19 06:18:56             7   \n",
       "2  DueVegetable4583  2022-12-31 05:25:21             3   \n",
       "3           FA-69-7  2022-11-16 23:14:18             7   \n",
       "4    No-Painter8966  2022-12-18 17:21:05            10   \n",
       "\n",
       "                                           post_desc  \n",
       "0                                                NaN  \n",
       "1             Anyone know when they update for 2023?  \n",
       "2                                                NaN  \n",
       "3  [https://www.springboard.com/courses/software-...  \n",
       "4  Wondering what is anyone's experience doing a ...  "
      ]
     },
     "execution_count": 13,
     "metadata": {},
     "output_type": "execute_result"
    }
   ],
   "source": [
    "a_posts_concat.head()"
   ]
  },
  {
   "cell_type": "code",
   "execution_count": 9,
   "metadata": {},
   "outputs": [],
   "source": [
    "a_posts_concat.to_csv(\"posts_core.csv\")\n",
    "a_comments_concat.to_csv(\"comments_core.csv\")"
   ]
  }
 ],
 "metadata": {
  "kernelspec": {
   "display_name": "Python 3",
   "language": "python",
   "name": "python3"
  },
  "language_info": {
   "codemirror_mode": {
    "name": "ipython",
    "version": 3
   },
   "file_extension": ".py",
   "mimetype": "text/x-python",
   "name": "python",
   "nbconvert_exporter": "python",
   "pygments_lexer": "ipython3",
   "version": "3.9.1"
  },
  "orig_nbformat": 4,
  "vscode": {
   "interpreter": {
    "hash": "949777d72b0d2535278d3dc13498b2535136f6dfe0678499012e853ee9abcab1"
   }
  }
 },
 "nbformat": 4,
 "nbformat_minor": 2
}
